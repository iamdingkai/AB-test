{
 "cells": [
  {
   "cell_type": "code",
   "execution_count": 1,
   "metadata": {},
   "outputs": [],
   "source": [
    "import numpy as np\n",
    "import pandas as pd\n",
    "import seaborn as sns\n",
    "from pylab import *\n",
    "from IPython.display import Image\n",
    "import matplotlib.ticker as mtick\n",
    "\n",
    "import scipy.stats as stats\n",
    "import statsmodels.stats.weightstats as wstats\n",
    "from collections import OrderedDict"
   ]
  },
  {
   "cell_type": "code",
   "execution_count": 2,
   "metadata": {},
   "outputs": [
    {
     "name": "stdout",
     "output_type": "stream",
     "text": [
      " A: installs = 2501 \t connected = 1104 \t prop = 0.4414234306277489\n",
      " B: installs = 2141 \t connected = 1076 \t prop = 0.5025688930406352\n"
     ]
    },
    {
     "data": {
      "text/plain": [
       "Text(0.5, 1.0, 'Is this statistically significant?')"
      ]
     },
     "execution_count": 2,
     "metadata": {},
     "output_type": "execute_result"
    },
    {
     "data": {
      "image/png": "[encoded data removed]",
      "text/plain": [
       "<Figure size 800x400 with 1 Axes>"
      ]
     },
     "metadata": {},
     "output_type": "display_data"
    }
   ],
   "source": [
    "# Generating fake data\n",
    "# installs: how many installs Facebook app\n",
    "# connects: how many connects to the app\n",
    "\n",
    "control_installs = 2501\n",
    "control_connected = 1104\n",
    "test_installs = 2141\n",
    "test_connected = 1076\n",
    "\n",
    "print(' {}: installs = {} \\t connected = {} \\t prop = {}'\n",
    "      .format('A', control_installs, control_connected, control_connected/control_installs))\n",
    "\n",
    "print(' {}: installs = {} \\t connected = {} \\t prop = {}'\n",
    "      .format('B', test_installs, test_connected, test_connected/test_installs))\n",
    "\n",
    "\n",
    "fig, ax = plt.subplots(figsize=(8,4))\n",
    "\n",
    "x = [0,1]\n",
    "y = [control_connected/control_installs, test_connected/test_installs]\n",
    "ax.bar(x, y, align='center', width=.8)\n",
    "ax.set_xticks(x)\n",
    "ax.set_xticklabels(['Control', 'Test'])\n",
    "xlim(-.5,1.5)\n",
    "ylim(0, .69)\n",
    "for xx, yy in zip(x,y):\n",
    "    ax.text(xx, yy*.7, '%0.2f%%'%(100*yy),ha='center', va='bottom', fontdict={'size':15,'weight':'bold','color':(0.9,.9,.9)})\n",
    "# ax.yaxis.set_major_formatter(mtick.FormatStrFormatter('%.0f%%'))\n",
    "# def perc(x, pos=0):\n",
    "#     return '%0.0f%%'%(100*x)\n",
    "ax.yaxis.set_major_formatter(FuncFormatter(lambda x, pos=0: '%0.0f%%'%(100.0*x)))\n",
    "title('Is this statistically significant?', fontdict={'size':16})\n"
   ]
  },
  {
   "cell_type": "code",
   "execution_count": 6,
   "metadata": {},
   "outputs": [
    {
     "name": "stdout",
     "output_type": "stream",
     "text": [
      "z=-4.161114920415351, p=3.166976582869019e-05\n"
     ]
    }
   ],
   "source": [
    "def ztest_two_samples(\n",
    "        x1,\n",
    "        n1, \n",
    "        x2, \n",
    "        n2,\n",
    "        one_sided=False,\n",
    "):\n",
    "    p1 = x1/n1\n",
    "    p2 = x2/n2\n",
    "    \n",
    "    p = (x1 + x2) / (n1 + n2)\n",
    "    se = p * (1-p) * (1/n1 + 1/n2)\n",
    "    se = sqrt(se)\n",
    "    \n",
    "    z = (p1 - p2) / se\n",
    "    p = 1 - stats.norm.cdf(abs(z))\n",
    "    p *= 2 - one_sided\n",
    "\n",
    "    return z, p\n",
    "\n",
    "\n",
    "z, p = ztest_two_samples(\n",
    "    control_connected,\n",
    "    control_installs,\n",
    "    test_connected,\n",
    "    test_installs,\n",
    "    one_sided = False,\n",
    ")\n",
    "\n",
    "print(f'z={z}, p={p}')"
   ]
  },
  {
   "cell_type": "code",
   "execution_count": 8,
   "metadata": {},
   "outputs": [
    {
     "name": "stdout",
     "output_type": "stream",
     "text": [
      "z=-4.161114920415351, p=3.1669765828788065e-05\n"
     ]
    }
   ],
   "source": [
    "from statsmodels.stats.proportion import proportions_ztest\n",
    "count = np.array([control_connected, test_connected])\n",
    "nobs = np.array([control_installs, test_installs])\n",
    "z, p = proportions_ztest(count, nobs, value=0, alternative='two-sided')\n",
    "print(f'z={z}, p={p}')\n",
    "\n",
    "\n"
   ]
  },
  {
   "cell_type": "code",
   "execution_count": null,
   "metadata": {},
   "outputs": [],
   "source": []
  },
  {
   "cell_type": "code",
   "execution_count": null,
   "metadata": {},
   "outputs": [],
   "source": []
  },
  {
   "cell_type": "code",
   "execution_count": null,
   "metadata": {},
   "outputs": [],
   "source": []
  },
  {
   "cell_type": "code",
   "execution_count": null,
   "metadata": {},
   "outputs": [],
   "source": []
  },
  {
   "cell_type": "code",
   "execution_count": null,
   "metadata": {},
   "outputs": [],
   "source": []
  },
  {
   "cell_type": "code",
   "execution_count": null,
   "metadata": {},
   "outputs": [],
   "source": []
  },
  {
   "cell_type": "code",
   "execution_count": null,
   "metadata": {},
   "outputs": [],
   "source": []
  },
  {
   "cell_type": "code",
   "execution_count": null,
   "metadata": {},
   "outputs": [],
   "source": []
  },
  {
   "cell_type": "code",
   "execution_count": null,
   "metadata": {},
   "outputs": [],
   "source": []
  }
 ],
 "metadata": {
  "kernelspec": {
   "display_name": "base",
   "language": "python",
   "name": "python3"
  },
  "language_info": {
   "codemirror_mode": {
    "name": "ipython",
    "version": 3
   },
   "file_extension": ".py",
   "mimetype": "text/x-python",
   "name": "python",
   "nbconvert_exporter": "python",
   "pygments_lexer": "ipython3",
   "version": "3.10.9"
  }
 },
 "nbformat": 4,
 "nbformat_minor": 2
}
